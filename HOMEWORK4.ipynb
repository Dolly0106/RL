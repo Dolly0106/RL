{
 "cells": [
  {
   "cell_type": "code",
   "execution_count": 1,
   "id": "432b2add",
   "metadata": {},
   "outputs": [],
   "source": [
    "from selenium import webdriver\n",
    "import time"
   ]
  },
  {
   "cell_type": "code",
   "execution_count": null,
   "id": "147702d0",
   "metadata": {},
   "outputs": [],
   "source": [
    "from selenium import webdriver\n",
    "from selenium.webdriver.chrome.service import Service\n",
    "\n",
    "# 創建一個Service對象並指定chromedriver的路徑\n",
    "s=Service('D:\\\\chromedriver\\\\chromedriver.exe')\n",
    "\n",
    "# 將Service對象傳遞給webdriver.Chrome()\n",
    "browser = webdriver.Chrome(service=s)"
   ]
  },
  {
   "cell_type": "code",
   "execution_count": null,
   "id": "2ecaa75d",
   "metadata": {},
   "outputs": [],
   "source": [
    "#網頁\n",
    "url = 'https://www.inside.com.tw/'\n",
    "browser.get(url)\n",
    "print(browser.page_source)"
   ]
  },
  {
   "cell_type": "code",
   "execution_count": null,
   "id": "6c7d2da0",
   "metadata": {},
   "outputs": [],
   "source": [
    "#搜尋\n",
    "element = browser.find_element(By.XPATH,'/html/body/div[2]/nav/div/div/div/div[3]/button')\n",
    "element.click()\n",
    "#搜尋輸入\n",
    "keyword = ('編碼偏見')\n",
    "browser.find_element(By.XPATH, '//*[@id=\"search\"]').send_keys(keyword)\n",
    "#按下搜尋\n",
    "element = browser.find_element(By.XPATH,'/html/body/div[2]/nav/div/div/div/div[3]/div/div/div[1]/button')\n",
    "element.click()"
   ]
  },
  {
   "cell_type": "code",
   "execution_count": null,
   "id": "f08ded0c",
   "metadata": {},
   "outputs": [],
   "source": []
  }
 ],
 "metadata": {
  "kernelspec": {
   "display_name": "Python 3 (ipykernel)",
   "language": "python",
   "name": "python3"
  },
  "language_info": {
   "codemirror_mode": {
    "name": "ipython",
    "version": 3
   },
   "file_extension": ".py",
   "mimetype": "text/x-python",
   "name": "python",
   "nbconvert_exporter": "python",
   "pygments_lexer": "ipython3",
   "version": "3.11.4"
  }
 },
 "nbformat": 4,
 "nbformat_minor": 5
}
